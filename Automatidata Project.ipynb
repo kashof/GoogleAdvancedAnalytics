{
  "metadata": {
    "colab": {
      "collapsed_sections": [
        "u3HxcMZgz6iW"
      ],
      "provenance": []
    },
    "kernelspec": {
      "name": "python",
      "display_name": "Python (Pyodide)",
      "language": "python"
    },
    "language_info": {
      "codemirror_mode": {
        "name": "python",
        "version": 3
      },
      "file_extension": ".py",
      "mimetype": "text/x-python",
      "name": "python",
      "nbconvert_exporter": "python",
      "pygments_lexer": "ipython3",
      "version": "3.8"
    }
  },
  "nbformat_minor": 4,
  "nbformat": 4,
  "cells": [
    {
      "cell_type": "markdown",
      "source": "# **Automatidata Project**\n**Course 2 - Get Started with Python**",
      "metadata": {
        "id": "DtNBZFHO3M7n"
      }
    },
    {
      "cell_type": "markdown",
      "source": "You have just started as a data professional in a fictional data analytics firm, Automatidata. Their client, the New York City Taxi and Limousine Commission (New York City TLC), has hired the Automatidata team for its reputation in helping their clients develop data-based solutions.\n\nThe team is still in the early stages of the project. Previously, you were asked to complete a project proposal by your supervisor, DeShawn Washington. You have received notice that your project proposal has been approved and that New York City TLC has given the Automatidata team access to their data. To get clear insights, New York TLC's data must be analyzed, key variables identified, and the dataset ensured it is ready for analysis.\n\nA notebook was structured and prepared to help you in this project. Please complete the questions inside and prepare a summary for the data team.",
      "metadata": {}
    },
    {
      "cell_type": "markdown",
      "source": "# Course 2 End-of-course Project: Inspect and analyze data \n\nIn this activity, we will examine data provided and prepare it for analysis.  \n<br/>   \n\n**The purpose** of this project is to investigate and understand the data provided. **The goal** is to use a dataframe contructed within Python, perform a cursory inspection of the provided dataset, and inform team members of your findings. \n<br/>  \n*This activity has three parts:*\n\n**Part 1:** Understand the situation \n* How can you best prepare to understand and organize the provided taxi cab information?\n\n**Part 2:** Understand the data\n\n* Create a pandas dataframe for data learning, future exploratory data analysis (EDA), and statistical activities.\n\n* Compile summary information about the data to inform next steps.\n\n**Part 3:** Understand the variables\n\n* Use insights from your examination of the summary data to guide deeper investigation into specific variables.\n\n\n",
      "metadata": {
        "id": "rgSbVJvomcVa"
      }
    },
    {
      "cell_type": "markdown",
      "source": "# **Identify data types and relevant variables using Python**",
      "metadata": {}
    },
    {
      "cell_type": "markdown",
      "source": "### **Exercise Instructions**\n",
      "metadata": {
        "id": "i54DhoTln2Sb",
        "jp-MarkdownHeadingCollapsed": true,
        "tags": []
      }
    },
    {
      "cell_type": "markdown",
      "source": "Throughout these project notebooks, we will follow the problem-solving framework PACE. The following notebook components are labeled with the respective PACE stage: Plan, Analyze, Construct, and Execute.\n\n# **PACE stages** \n\n\n\n   *        [Plan]\n   *        [Analyze]\n   *        [Construct]\n   *        [Execute]\n\n\n\n## 1: **Plan**\n\nConsider the questions in your PACE Strategy Document and those below to craft your response:",
      "metadata": {
        "id": "MRUYfzCb4vop"
      }
    },
    {
      "cell_type": "markdown",
      "source": "### **Task 1. Understand the situation**\n\n1.   How can you best prepare to understand and organize the provided taxi cab information? ",
      "metadata": {
        "id": "pWEfG5zJV5oG"
      }
    },
    {
      "cell_type": "markdown",
      "source": "\nWe begin by exploring your dataset and consider reviewing the Data Dictionary. I can prepare to understand the information by reading the taxi cab data fields and ensuring I understand how each one impacts the dataset. Reviewing the fact sheet could also provide helpful background information. However, my primary goal is to get the data into Python, inspect it, and provide DeShawn with my initial observations. Afterwards, I can learn more deeply about the data and check for any anomalies.",
      "metadata": {
        "id": "H6ogC5ut6NSH"
      }
    },
    {
      "cell_type": "markdown",
      "source": "\n\n## 2: **Analyze**\n\nConsider the questions in your PACE Strategy Document to reflect on the Analyze stage.",
      "metadata": {
        "id": "1E9Y5aC0IAA-"
      }
    },
    {
      "cell_type": "markdown",
      "source": "### **Task 2a. Build dataframe**",
      "metadata": {
        "id": "L6KgK-M8o3we"
      }
    },
    {
      "cell_type": "markdown",
      "source": "Create a pandas dataframe for data learning, and future exploratory data analysis (EDA) and statistical activities.\n\n**Code the following:**\n\n*   import pandas as pd               #library exercise for buidling dataframes\n\n*   import numpy as np                #numpy is imported with pandas\n\n*   df = pd.read_csv('Datasets\\NYC taxi data.csv')\n",
      "metadata": {
        "id": "D4WK_AxP_S__"
      }
    },
    {
      "cell_type": "code",
      "source": "import pandas as pd               #library exercise for buidling dataframes\nimport numpy as np                #numpy is imported with pandas\n\ndf = pd.read_csv('2017_Yellow_Taxi_Trip_Data.csv')\nprint(\"done\")",
      "metadata": {
        "colab": {
          "base_uri": "https://localhost:8080/"
        },
        "id": "5yNpkDYibvXk",
        "outputId": "469269c4-de60-41a5-87db-414cdf589591",
        "trusted": true
      },
      "execution_count": 5,
      "outputs": [
        {
          "name": "stdout",
          "text": "done\n",
          "output_type": "stream"
        }
      ]
    },
    {
      "cell_type": "markdown",
      "source": "### **Task 2b. Understand the data - Inspect the data**\n\nView and inspect summary information about the dataframe by coding the following:\n\n1. df.head(10)\n2. df.info()\n3. df.describe()\n\nConsider the following two questions:\n\n**Question 1:** When reviewing the df.info() output, what do you notice about the different variables? Are there any null values? Are all of the variables numeric? Does anything else stand out?\n\n**Answer:** Dtypes are non-numeric. Two of which are datetime.\nNo null values.\n\n**Question 2:** When reviewing the df.describe() output, what do you notice about the distributions of each variable? Are there any questionable values?\n\n**Answer:** Regarding trip distance, most rides are between 1-3 miles, but the maximum is over 33 miles. Regarding fare amount, the distribution is worth considering. The maximum fare amount is a much larger value ($1000) than the 25-75 percent range of values. Also, it's questionable how there are negative values for fare amount.",
      "metadata": {
        "id": "gYx1emvno7U_"
      }
    },
    {
      "cell_type": "code",
      "source": "# ==> Let's have a look at the first 10 enteries\ndf.head(10)",
      "metadata": {
        "colab": {
          "base_uri": "https://localhost:8080/",
          "height": 427
        },
        "executionInfo": {
          "elapsed": 172,
          "status": "ok",
          "timestamp": 1665171557893,
          "user": {
            "displayName": "Brian Hogan",
            "userId": "18426261707847008999"
          },
          "user_tz": 240
        },
        "id": "5HTB82SLFlpH",
        "outputId": "1e956581-5b23-4f61-a9fc-3b985593545f",
        "trusted": true
      },
      "execution_count": 8,
      "outputs": [
        {
          "execution_count": 8,
          "output_type": "execute_result",
          "data": {
            "text/plain": "   Unnamed: 0  VendorID    tpep_pickup_datetime   tpep_dropoff_datetime  \\\n0    24870114         2   03/25/2017 8:55:43 AM   03/25/2017 9:09:47 AM   \n1    35634249         1   04/11/2017 2:53:28 PM   04/11/2017 3:19:58 PM   \n2   106203690         1   12/15/2017 7:26:56 AM   12/15/2017 7:34:08 AM   \n3    38942136         2   05/07/2017 1:17:59 PM   05/07/2017 1:48:14 PM   \n4    30841670         2  04/15/2017 11:32:20 PM  04/15/2017 11:49:03 PM   \n5    23345809         2   03/25/2017 8:34:11 PM   03/25/2017 8:42:11 PM   \n6    37660487         2   05/03/2017 7:04:09 PM   05/03/2017 8:03:47 PM   \n7    69059411         2   08/15/2017 5:41:06 PM   08/15/2017 6:03:05 PM   \n8     8433159         2   02/04/2017 4:17:07 PM   02/04/2017 4:29:14 PM   \n9    95294817         1   11/10/2017 3:20:29 PM   11/10/2017 3:40:55 PM   \n\n   passenger_count  trip_distance  RatecodeID store_and_fwd_flag  \\\n0                6           3.34           1                  N   \n1                1           1.80           1                  N   \n2                1           1.00           1                  N   \n3                1           3.70           1                  N   \n4                1           4.37           1                  N   \n5                6           2.30           1                  N   \n6                1          12.83           1                  N   \n7                1           2.98           1                  N   \n8                1           1.20           1                  N   \n9                1           1.60           1                  N   \n\n   PULocationID  DOLocationID  payment_type  fare_amount  extra  mta_tax  \\\n0           100           231             1         13.0    0.0      0.5   \n1           186            43             1         16.0    0.0      0.5   \n2           262           236             1          6.5    0.0      0.5   \n3           188            97             1         20.5    0.0      0.5   \n4             4           112             2         16.5    0.5      0.5   \n5           161           236             1          9.0    0.5      0.5   \n6            79           241             1         47.5    1.0      0.5   \n7           237           114             1         16.0    1.0      0.5   \n8           234           249             2          9.0    0.0      0.5   \n9           239           237             1         13.0    0.0      0.5   \n\n   tip_amount  tolls_amount  improvement_surcharge  total_amount  \n0        2.76           0.0                    0.3         16.56  \n1        4.00           0.0                    0.3         20.80  \n2        1.45           0.0                    0.3          8.75  \n3        6.39           0.0                    0.3         27.69  \n4        0.00           0.0                    0.3         17.80  \n5        2.06           0.0                    0.3         12.36  \n6        9.86           0.0                    0.3         59.16  \n7        1.78           0.0                    0.3         19.58  \n8        0.00           0.0                    0.3          9.80  \n9        2.75           0.0                    0.3         16.55  ",
            "text/html": "<div>\n<style scoped>\n    .dataframe tbody tr th:only-of-type {\n        vertical-align: middle;\n    }\n\n    .dataframe tbody tr th {\n        vertical-align: top;\n    }\n\n    .dataframe thead th {\n        text-align: right;\n    }\n</style>\n<table border=\"1\" class=\"dataframe\">\n  <thead>\n    <tr style=\"text-align: right;\">\n      <th></th>\n      <th>Unnamed: 0</th>\n      <th>VendorID</th>\n      <th>tpep_pickup_datetime</th>\n      <th>tpep_dropoff_datetime</th>\n      <th>passenger_count</th>\n      <th>trip_distance</th>\n      <th>RatecodeID</th>\n      <th>store_and_fwd_flag</th>\n      <th>PULocationID</th>\n      <th>DOLocationID</th>\n      <th>payment_type</th>\n      <th>fare_amount</th>\n      <th>extra</th>\n      <th>mta_tax</th>\n      <th>tip_amount</th>\n      <th>tolls_amount</th>\n      <th>improvement_surcharge</th>\n      <th>total_amount</th>\n    </tr>\n  </thead>\n  <tbody>\n    <tr>\n      <th>0</th>\n      <td>24870114</td>\n      <td>2</td>\n      <td>03/25/2017 8:55:43 AM</td>\n      <td>03/25/2017 9:09:47 AM</td>\n      <td>6</td>\n      <td>3.34</td>\n      <td>1</td>\n      <td>N</td>\n      <td>100</td>\n      <td>231</td>\n      <td>1</td>\n      <td>13.0</td>\n      <td>0.0</td>\n      <td>0.5</td>\n      <td>2.76</td>\n      <td>0.0</td>\n      <td>0.3</td>\n      <td>16.56</td>\n    </tr>\n    <tr>\n      <th>1</th>\n      <td>35634249</td>\n      <td>1</td>\n      <td>04/11/2017 2:53:28 PM</td>\n      <td>04/11/2017 3:19:58 PM</td>\n      <td>1</td>\n      <td>1.80</td>\n      <td>1</td>\n      <td>N</td>\n      <td>186</td>\n      <td>43</td>\n      <td>1</td>\n      <td>16.0</td>\n      <td>0.0</td>\n      <td>0.5</td>\n      <td>4.00</td>\n      <td>0.0</td>\n      <td>0.3</td>\n      <td>20.80</td>\n    </tr>\n    <tr>\n      <th>2</th>\n      <td>106203690</td>\n      <td>1</td>\n      <td>12/15/2017 7:26:56 AM</td>\n      <td>12/15/2017 7:34:08 AM</td>\n      <td>1</td>\n      <td>1.00</td>\n      <td>1</td>\n      <td>N</td>\n      <td>262</td>\n      <td>236</td>\n      <td>1</td>\n      <td>6.5</td>\n      <td>0.0</td>\n      <td>0.5</td>\n      <td>1.45</td>\n      <td>0.0</td>\n      <td>0.3</td>\n      <td>8.75</td>\n    </tr>\n    <tr>\n      <th>3</th>\n      <td>38942136</td>\n      <td>2</td>\n      <td>05/07/2017 1:17:59 PM</td>\n      <td>05/07/2017 1:48:14 PM</td>\n      <td>1</td>\n      <td>3.70</td>\n      <td>1</td>\n      <td>N</td>\n      <td>188</td>\n      <td>97</td>\n      <td>1</td>\n      <td>20.5</td>\n      <td>0.0</td>\n      <td>0.5</td>\n      <td>6.39</td>\n      <td>0.0</td>\n      <td>0.3</td>\n      <td>27.69</td>\n    </tr>\n    <tr>\n      <th>4</th>\n      <td>30841670</td>\n      <td>2</td>\n      <td>04/15/2017 11:32:20 PM</td>\n      <td>04/15/2017 11:49:03 PM</td>\n      <td>1</td>\n      <td>4.37</td>\n      <td>1</td>\n      <td>N</td>\n      <td>4</td>\n      <td>112</td>\n      <td>2</td>\n      <td>16.5</td>\n      <td>0.5</td>\n      <td>0.5</td>\n      <td>0.00</td>\n      <td>0.0</td>\n      <td>0.3</td>\n      <td>17.80</td>\n    </tr>\n    <tr>\n      <th>5</th>\n      <td>23345809</td>\n      <td>2</td>\n      <td>03/25/2017 8:34:11 PM</td>\n      <td>03/25/2017 8:42:11 PM</td>\n      <td>6</td>\n      <td>2.30</td>\n      <td>1</td>\n      <td>N</td>\n      <td>161</td>\n      <td>236</td>\n      <td>1</td>\n      <td>9.0</td>\n      <td>0.5</td>\n      <td>0.5</td>\n      <td>2.06</td>\n      <td>0.0</td>\n      <td>0.3</td>\n      <td>12.36</td>\n    </tr>\n    <tr>\n      <th>6</th>\n      <td>37660487</td>\n      <td>2</td>\n      <td>05/03/2017 7:04:09 PM</td>\n      <td>05/03/2017 8:03:47 PM</td>\n      <td>1</td>\n      <td>12.83</td>\n      <td>1</td>\n      <td>N</td>\n      <td>79</td>\n      <td>241</td>\n      <td>1</td>\n      <td>47.5</td>\n      <td>1.0</td>\n      <td>0.5</td>\n      <td>9.86</td>\n      <td>0.0</td>\n      <td>0.3</td>\n      <td>59.16</td>\n    </tr>\n    <tr>\n      <th>7</th>\n      <td>69059411</td>\n      <td>2</td>\n      <td>08/15/2017 5:41:06 PM</td>\n      <td>08/15/2017 6:03:05 PM</td>\n      <td>1</td>\n      <td>2.98</td>\n      <td>1</td>\n      <td>N</td>\n      <td>237</td>\n      <td>114</td>\n      <td>1</td>\n      <td>16.0</td>\n      <td>1.0</td>\n      <td>0.5</td>\n      <td>1.78</td>\n      <td>0.0</td>\n      <td>0.3</td>\n      <td>19.58</td>\n    </tr>\n    <tr>\n      <th>8</th>\n      <td>8433159</td>\n      <td>2</td>\n      <td>02/04/2017 4:17:07 PM</td>\n      <td>02/04/2017 4:29:14 PM</td>\n      <td>1</td>\n      <td>1.20</td>\n      <td>1</td>\n      <td>N</td>\n      <td>234</td>\n      <td>249</td>\n      <td>2</td>\n      <td>9.0</td>\n      <td>0.0</td>\n      <td>0.5</td>\n      <td>0.00</td>\n      <td>0.0</td>\n      <td>0.3</td>\n      <td>9.80</td>\n    </tr>\n    <tr>\n      <th>9</th>\n      <td>95294817</td>\n      <td>1</td>\n      <td>11/10/2017 3:20:29 PM</td>\n      <td>11/10/2017 3:40:55 PM</td>\n      <td>1</td>\n      <td>1.60</td>\n      <td>1</td>\n      <td>N</td>\n      <td>239</td>\n      <td>237</td>\n      <td>1</td>\n      <td>13.0</td>\n      <td>0.0</td>\n      <td>0.5</td>\n      <td>2.75</td>\n      <td>0.0</td>\n      <td>0.3</td>\n      <td>16.55</td>\n    </tr>\n  </tbody>\n</table>\n</div>"
          },
          "metadata": {}
        }
      ]
    },
    {
      "cell_type": "code",
      "source": "# ==> Let's checked the columns and their dtypes.\ndf.info()",
      "metadata": {
        "colab": {
          "base_uri": "https://localhost:8080/"
        },
        "executionInfo": {
          "elapsed": 175,
          "status": "ok",
          "timestamp": 1665171561166,
          "user": {
            "displayName": "Brian Hogan",
            "userId": "18426261707847008999"
          },
          "user_tz": 240
        },
        "id": "yXsNTsteu5zZ",
        "outputId": "be9a4450-7d01-49e0-de38-88a336410e02",
        "trusted": true
      },
      "execution_count": 7,
      "outputs": [
        {
          "name": "stdout",
          "text": "<class 'pandas.core.frame.DataFrame'>\nRangeIndex: 22699 entries, 0 to 22698\nData columns (total 18 columns):\n #   Column                 Non-Null Count  Dtype  \n---  ------                 --------------  -----  \n 0   Unnamed: 0             22699 non-null  int64  \n 1   VendorID               22699 non-null  int64  \n 2   tpep_pickup_datetime   22699 non-null  object \n 3   tpep_dropoff_datetime  22699 non-null  object \n 4   passenger_count        22699 non-null  int64  \n 5   trip_distance          22699 non-null  float64\n 6   RatecodeID             22699 non-null  int64  \n 7   store_and_fwd_flag     22699 non-null  object \n 8   PULocationID           22699 non-null  int64  \n 9   DOLocationID           22699 non-null  int64  \n 10  payment_type           22699 non-null  int64  \n 11  fare_amount            22699 non-null  float64\n 12  extra                  22699 non-null  float64\n 13  mta_tax                22699 non-null  float64\n 14  tip_amount             22699 non-null  float64\n 15  tolls_amount           22699 non-null  float64\n 16  improvement_surcharge  22699 non-null  float64\n 17  total_amount           22699 non-null  float64\ndtypes: float64(8), int64(7), object(3)\nmemory usage: 2.9+ MB\n",
          "output_type": "stream"
        }
      ]
    },
    {
      "cell_type": "code",
      "source": "# ==> Let's quickly get some statistical figures from the table.\ndf.describe()",
      "metadata": {
        "trusted": true
      },
      "execution_count": 9,
      "outputs": [
        {
          "execution_count": 9,
          "output_type": "execute_result",
          "data": {
            "text/plain": "         Unnamed: 0      VendorID  passenger_count  trip_distance  \\\ncount  2.269900e+04  22699.000000     22699.000000   22699.000000   \nmean   5.675849e+07      1.556236         1.642319       2.913313   \nstd    3.274493e+07      0.496838         1.285231       3.653171   \nmin    1.212700e+04      1.000000         0.000000       0.000000   \n25%    2.852056e+07      1.000000         1.000000       0.990000   \n50%    5.673150e+07      2.000000         1.000000       1.610000   \n75%    8.537452e+07      2.000000         2.000000       3.060000   \nmax    1.134863e+08      2.000000         6.000000      33.960000   \n\n         RatecodeID  PULocationID  DOLocationID  payment_type   fare_amount  \\\ncount  22699.000000  22699.000000  22699.000000  22699.000000  22699.000000   \nmean       1.043394    162.412353    161.527997      1.336887     13.026629   \nstd        0.708391     66.633373     70.139691      0.496211     13.243791   \nmin        1.000000      1.000000      1.000000      1.000000   -120.000000   \n25%        1.000000    114.000000    112.000000      1.000000      6.500000   \n50%        1.000000    162.000000    162.000000      1.000000      9.500000   \n75%        1.000000    233.000000    233.000000      2.000000     14.500000   \nmax       99.000000    265.000000    265.000000      4.000000    999.990000   \n\n              extra       mta_tax    tip_amount  tolls_amount  \\\ncount  22699.000000  22699.000000  22699.000000  22699.000000   \nmean       0.333275      0.497445      1.835781      0.312542   \nstd        0.463097      0.039465      2.800626      1.399212   \nmin       -1.000000     -0.500000      0.000000      0.000000   \n25%        0.000000      0.500000      0.000000      0.000000   \n50%        0.000000      0.500000      1.350000      0.000000   \n75%        0.500000      0.500000      2.450000      0.000000   \nmax        4.500000      0.500000    200.000000     19.100000   \n\n       improvement_surcharge  total_amount  \ncount           22699.000000  22699.000000  \nmean                0.299551     16.310502  \nstd                 0.015673     16.097295  \nmin                -0.300000   -120.300000  \n25%                 0.300000      8.750000  \n50%                 0.300000     11.800000  \n75%                 0.300000     17.800000  \nmax                 0.300000   1200.290000  ",
            "text/html": "<div>\n<style scoped>\n    .dataframe tbody tr th:only-of-type {\n        vertical-align: middle;\n    }\n\n    .dataframe tbody tr th {\n        vertical-align: top;\n    }\n\n    .dataframe thead th {\n        text-align: right;\n    }\n</style>\n<table border=\"1\" class=\"dataframe\">\n  <thead>\n    <tr style=\"text-align: right;\">\n      <th></th>\n      <th>Unnamed: 0</th>\n      <th>VendorID</th>\n      <th>passenger_count</th>\n      <th>trip_distance</th>\n      <th>RatecodeID</th>\n      <th>PULocationID</th>\n      <th>DOLocationID</th>\n      <th>payment_type</th>\n      <th>fare_amount</th>\n      <th>extra</th>\n      <th>mta_tax</th>\n      <th>tip_amount</th>\n      <th>tolls_amount</th>\n      <th>improvement_surcharge</th>\n      <th>total_amount</th>\n    </tr>\n  </thead>\n  <tbody>\n    <tr>\n      <th>count</th>\n      <td>2.269900e+04</td>\n      <td>22699.000000</td>\n      <td>22699.000000</td>\n      <td>22699.000000</td>\n      <td>22699.000000</td>\n      <td>22699.000000</td>\n      <td>22699.000000</td>\n      <td>22699.000000</td>\n      <td>22699.000000</td>\n      <td>22699.000000</td>\n      <td>22699.000000</td>\n      <td>22699.000000</td>\n      <td>22699.000000</td>\n      <td>22699.000000</td>\n      <td>22699.000000</td>\n    </tr>\n    <tr>\n      <th>mean</th>\n      <td>5.675849e+07</td>\n      <td>1.556236</td>\n      <td>1.642319</td>\n      <td>2.913313</td>\n      <td>1.043394</td>\n      <td>162.412353</td>\n      <td>161.527997</td>\n      <td>1.336887</td>\n      <td>13.026629</td>\n      <td>0.333275</td>\n      <td>0.497445</td>\n      <td>1.835781</td>\n      <td>0.312542</td>\n      <td>0.299551</td>\n      <td>16.310502</td>\n    </tr>\n    <tr>\n      <th>std</th>\n      <td>3.274493e+07</td>\n      <td>0.496838</td>\n      <td>1.285231</td>\n      <td>3.653171</td>\n      <td>0.708391</td>\n      <td>66.633373</td>\n      <td>70.139691</td>\n      <td>0.496211</td>\n      <td>13.243791</td>\n      <td>0.463097</td>\n      <td>0.039465</td>\n      <td>2.800626</td>\n      <td>1.399212</td>\n      <td>0.015673</td>\n      <td>16.097295</td>\n    </tr>\n    <tr>\n      <th>min</th>\n      <td>1.212700e+04</td>\n      <td>1.000000</td>\n      <td>0.000000</td>\n      <td>0.000000</td>\n      <td>1.000000</td>\n      <td>1.000000</td>\n      <td>1.000000</td>\n      <td>1.000000</td>\n      <td>-120.000000</td>\n      <td>-1.000000</td>\n      <td>-0.500000</td>\n      <td>0.000000</td>\n      <td>0.000000</td>\n      <td>-0.300000</td>\n      <td>-120.300000</td>\n    </tr>\n    <tr>\n      <th>25%</th>\n      <td>2.852056e+07</td>\n      <td>1.000000</td>\n      <td>1.000000</td>\n      <td>0.990000</td>\n      <td>1.000000</td>\n      <td>114.000000</td>\n      <td>112.000000</td>\n      <td>1.000000</td>\n      <td>6.500000</td>\n      <td>0.000000</td>\n      <td>0.500000</td>\n      <td>0.000000</td>\n      <td>0.000000</td>\n      <td>0.300000</td>\n      <td>8.750000</td>\n    </tr>\n    <tr>\n      <th>50%</th>\n      <td>5.673150e+07</td>\n      <td>2.000000</td>\n      <td>1.000000</td>\n      <td>1.610000</td>\n      <td>1.000000</td>\n      <td>162.000000</td>\n      <td>162.000000</td>\n      <td>1.000000</td>\n      <td>9.500000</td>\n      <td>0.000000</td>\n      <td>0.500000</td>\n      <td>1.350000</td>\n      <td>0.000000</td>\n      <td>0.300000</td>\n      <td>11.800000</td>\n    </tr>\n    <tr>\n      <th>75%</th>\n      <td>8.537452e+07</td>\n      <td>2.000000</td>\n      <td>2.000000</td>\n      <td>3.060000</td>\n      <td>1.000000</td>\n      <td>233.000000</td>\n      <td>233.000000</td>\n      <td>2.000000</td>\n      <td>14.500000</td>\n      <td>0.500000</td>\n      <td>0.500000</td>\n      <td>2.450000</td>\n      <td>0.000000</td>\n      <td>0.300000</td>\n      <td>17.800000</td>\n    </tr>\n    <tr>\n      <th>max</th>\n      <td>1.134863e+08</td>\n      <td>2.000000</td>\n      <td>6.000000</td>\n      <td>33.960000</td>\n      <td>99.000000</td>\n      <td>265.000000</td>\n      <td>265.000000</td>\n      <td>4.000000</td>\n      <td>999.990000</td>\n      <td>4.500000</td>\n      <td>0.500000</td>\n      <td>200.000000</td>\n      <td>19.100000</td>\n      <td>0.300000</td>\n      <td>1200.290000</td>\n    </tr>\n  </tbody>\n</table>\n</div>"
          },
          "metadata": {}
        }
      ]
    },
    {
      "cell_type": "markdown",
      "source": "### **Task 2c. Understand the data - Investigate the variables**\n\nSort and interpret the data table for two variables:`trip_distance` and `total_amount`.\n\n**Answer the following three questions:**\n\n**Question 1:** Sort your first variable (`trip_distance`) from maximum to minimum value, do the values seem normal?\n\n**Answer:**  The values align with our earlier data discovery, where we noticed that the longest rides are approximately 33 miles.\n\n\n\n**Question 2:** Sort your by your second variable (`total_amount`), are any values unusual?\n\n**Answer:** Yes, the first two values are significantly higher than the others.\n\n**Question 3:** Are the resulting rows similar for both sorts? Why or why not?\n\n**Answer:** The most expensive rides are not necessarily the longest ones. ",
      "metadata": {
        "id": "BMNnIoc51_1N"
      }
    },
    {
      "cell_type": "code",
      "source": "# Let's sort the data by trip distance from maximum to minimum value\n\ndf_sort = df.sort_values(by=['trip_distance'],ascending=False)\ndf_sort.head(10)",
      "metadata": {
        "trusted": true
      },
      "execution_count": 12,
      "outputs": [
        {
          "execution_count": 12,
          "output_type": "execute_result",
          "data": {
            "text/plain": "       Unnamed: 0  VendorID    tpep_pickup_datetime   tpep_dropoff_datetime  \\\n9280     51810714         2  06/18/2017 11:33:25 PM  06/19/2017 12:12:38 AM   \n13861    40523668         2   05/19/2017 8:20:21 AM   05/19/2017 9:20:30 AM   \n6064     49894023         2  06/13/2017 12:30:22 PM   06/13/2017 1:37:51 PM   \n10291    76319330         2  09/11/2017 11:41:04 AM  09/11/2017 12:18:58 PM   \n29       94052446         2   11/06/2017 8:30:50 PM  11/07/2017 12:00:00 AM   \n18130    90375786         1   10/26/2017 2:45:01 PM   10/26/2017 4:12:49 PM   \n5792     68023798         2   08/11/2017 2:14:01 PM   08/11/2017 3:17:31 PM   \n15350    77309977         2   09/14/2017 1:44:44 PM   09/14/2017 2:34:29 PM   \n10302    43431843         1   05/15/2017 8:11:34 AM   05/15/2017 9:03:16 AM   \n2592     51094874         2   06/16/2017 6:51:20 PM   06/16/2017 7:41:42 PM   \n\n       passenger_count  trip_distance  RatecodeID store_and_fwd_flag  \\\n9280                 2          33.96           5                  N   \n13861                1          33.92           5                  N   \n6064                 1          32.72           3                  N   \n10291                1          31.95           4                  N   \n29                   1          30.83           1                  N   \n18130                1          30.50           1                  N   \n5792                 1          30.33           2                  N   \n15350                1          28.23           2                  N   \n10302                1          28.20           2                  N   \n2592                 1          27.97           2                  N   \n\n       PULocationID  DOLocationID  payment_type  fare_amount  extra  mta_tax  \\\n9280            132           265             2       150.00    0.0      0.0   \n13861           229           265             1       200.01    0.0      0.5   \n6064            138             1             1       107.00    0.0      0.0   \n10291           138           265             2       131.00    0.0      0.5   \n29              132            23             1        80.00    0.5      0.5   \n18130           132           220             1        90.50    0.0      0.5   \n5792            132           158             1        52.00    0.0      0.5   \n15350            13           132             1        52.00    0.0      0.5   \n10302            90           132             1        52.00    0.0      0.5   \n2592            261           132             2        52.00    4.5      0.5   \n\n       tip_amount  tolls_amount  improvement_surcharge  total_amount  \n9280         0.00          0.00                    0.3        150.30  \n13861       51.64          5.76                    0.3        258.21  \n6064        55.50         16.26                    0.3        179.06  \n10291        0.00          0.00                    0.3        131.80  \n29          18.56         11.52                    0.3        111.38  \n18130       19.85          8.16                    0.3        119.31  \n5792        14.64          5.76                    0.3         73.20  \n15350        4.40          5.76                    0.3         62.96  \n10302       11.71          5.76                    0.3         70.27  \n2592         0.00          5.76                    0.3         63.06  ",
            "text/html": "<div>\n<style scoped>\n    .dataframe tbody tr th:only-of-type {\n        vertical-align: middle;\n    }\n\n    .dataframe tbody tr th {\n        vertical-align: top;\n    }\n\n    .dataframe thead th {\n        text-align: right;\n    }\n</style>\n<table border=\"1\" class=\"dataframe\">\n  <thead>\n    <tr style=\"text-align: right;\">\n      <th></th>\n      <th>Unnamed: 0</th>\n      <th>VendorID</th>\n      <th>tpep_pickup_datetime</th>\n      <th>tpep_dropoff_datetime</th>\n      <th>passenger_count</th>\n      <th>trip_distance</th>\n      <th>RatecodeID</th>\n      <th>store_and_fwd_flag</th>\n      <th>PULocationID</th>\n      <th>DOLocationID</th>\n      <th>payment_type</th>\n      <th>fare_amount</th>\n      <th>extra</th>\n      <th>mta_tax</th>\n      <th>tip_amount</th>\n      <th>tolls_amount</th>\n      <th>improvement_surcharge</th>\n      <th>total_amount</th>\n    </tr>\n  </thead>\n  <tbody>\n    <tr>\n      <th>9280</th>\n      <td>51810714</td>\n      <td>2</td>\n      <td>06/18/2017 11:33:25 PM</td>\n      <td>06/19/2017 12:12:38 AM</td>\n      <td>2</td>\n      <td>33.96</td>\n      <td>5</td>\n      <td>N</td>\n      <td>132</td>\n      <td>265</td>\n      <td>2</td>\n      <td>150.00</td>\n      <td>0.0</td>\n      <td>0.0</td>\n      <td>0.00</td>\n      <td>0.00</td>\n      <td>0.3</td>\n      <td>150.30</td>\n    </tr>\n    <tr>\n      <th>13861</th>\n      <td>40523668</td>\n      <td>2</td>\n      <td>05/19/2017 8:20:21 AM</td>\n      <td>05/19/2017 9:20:30 AM</td>\n      <td>1</td>\n      <td>33.92</td>\n      <td>5</td>\n      <td>N</td>\n      <td>229</td>\n      <td>265</td>\n      <td>1</td>\n      <td>200.01</td>\n      <td>0.0</td>\n      <td>0.5</td>\n      <td>51.64</td>\n      <td>5.76</td>\n      <td>0.3</td>\n      <td>258.21</td>\n    </tr>\n    <tr>\n      <th>6064</th>\n      <td>49894023</td>\n      <td>2</td>\n      <td>06/13/2017 12:30:22 PM</td>\n      <td>06/13/2017 1:37:51 PM</td>\n      <td>1</td>\n      <td>32.72</td>\n      <td>3</td>\n      <td>N</td>\n      <td>138</td>\n      <td>1</td>\n      <td>1</td>\n      <td>107.00</td>\n      <td>0.0</td>\n      <td>0.0</td>\n      <td>55.50</td>\n      <td>16.26</td>\n      <td>0.3</td>\n      <td>179.06</td>\n    </tr>\n    <tr>\n      <th>10291</th>\n      <td>76319330</td>\n      <td>2</td>\n      <td>09/11/2017 11:41:04 AM</td>\n      <td>09/11/2017 12:18:58 PM</td>\n      <td>1</td>\n      <td>31.95</td>\n      <td>4</td>\n      <td>N</td>\n      <td>138</td>\n      <td>265</td>\n      <td>2</td>\n      <td>131.00</td>\n      <td>0.0</td>\n      <td>0.5</td>\n      <td>0.00</td>\n      <td>0.00</td>\n      <td>0.3</td>\n      <td>131.80</td>\n    </tr>\n    <tr>\n      <th>29</th>\n      <td>94052446</td>\n      <td>2</td>\n      <td>11/06/2017 8:30:50 PM</td>\n      <td>11/07/2017 12:00:00 AM</td>\n      <td>1</td>\n      <td>30.83</td>\n      <td>1</td>\n      <td>N</td>\n      <td>132</td>\n      <td>23</td>\n      <td>1</td>\n      <td>80.00</td>\n      <td>0.5</td>\n      <td>0.5</td>\n      <td>18.56</td>\n      <td>11.52</td>\n      <td>0.3</td>\n      <td>111.38</td>\n    </tr>\n    <tr>\n      <th>18130</th>\n      <td>90375786</td>\n      <td>1</td>\n      <td>10/26/2017 2:45:01 PM</td>\n      <td>10/26/2017 4:12:49 PM</td>\n      <td>1</td>\n      <td>30.50</td>\n      <td>1</td>\n      <td>N</td>\n      <td>132</td>\n      <td>220</td>\n      <td>1</td>\n      <td>90.50</td>\n      <td>0.0</td>\n      <td>0.5</td>\n      <td>19.85</td>\n      <td>8.16</td>\n      <td>0.3</td>\n      <td>119.31</td>\n    </tr>\n    <tr>\n      <th>5792</th>\n      <td>68023798</td>\n      <td>2</td>\n      <td>08/11/2017 2:14:01 PM</td>\n      <td>08/11/2017 3:17:31 PM</td>\n      <td>1</td>\n      <td>30.33</td>\n      <td>2</td>\n      <td>N</td>\n      <td>132</td>\n      <td>158</td>\n      <td>1</td>\n      <td>52.00</td>\n      <td>0.0</td>\n      <td>0.5</td>\n      <td>14.64</td>\n      <td>5.76</td>\n      <td>0.3</td>\n      <td>73.20</td>\n    </tr>\n    <tr>\n      <th>15350</th>\n      <td>77309977</td>\n      <td>2</td>\n      <td>09/14/2017 1:44:44 PM</td>\n      <td>09/14/2017 2:34:29 PM</td>\n      <td>1</td>\n      <td>28.23</td>\n      <td>2</td>\n      <td>N</td>\n      <td>13</td>\n      <td>132</td>\n      <td>1</td>\n      <td>52.00</td>\n      <td>0.0</td>\n      <td>0.5</td>\n      <td>4.40</td>\n      <td>5.76</td>\n      <td>0.3</td>\n      <td>62.96</td>\n    </tr>\n    <tr>\n      <th>10302</th>\n      <td>43431843</td>\n      <td>1</td>\n      <td>05/15/2017 8:11:34 AM</td>\n      <td>05/15/2017 9:03:16 AM</td>\n      <td>1</td>\n      <td>28.20</td>\n      <td>2</td>\n      <td>N</td>\n      <td>90</td>\n      <td>132</td>\n      <td>1</td>\n      <td>52.00</td>\n      <td>0.0</td>\n      <td>0.5</td>\n      <td>11.71</td>\n      <td>5.76</td>\n      <td>0.3</td>\n      <td>70.27</td>\n    </tr>\n    <tr>\n      <th>2592</th>\n      <td>51094874</td>\n      <td>2</td>\n      <td>06/16/2017 6:51:20 PM</td>\n      <td>06/16/2017 7:41:42 PM</td>\n      <td>1</td>\n      <td>27.97</td>\n      <td>2</td>\n      <td>N</td>\n      <td>261</td>\n      <td>132</td>\n      <td>2</td>\n      <td>52.00</td>\n      <td>4.5</td>\n      <td>0.5</td>\n      <td>0.00</td>\n      <td>5.76</td>\n      <td>0.3</td>\n      <td>63.06</td>\n    </tr>\n  </tbody>\n</table>\n</div>"
          },
          "metadata": {}
        }
      ]
    },
    {
      "cell_type": "code",
      "source": "# Let's sort the data by total amount and print the top 20 values\ntotal_amount_sorted = df.sort_values(\n    ['total_amount'], ascending=False)['total_amount']\ntotal_amount_sorted.head(20)",
      "metadata": {
        "trusted": true
      },
      "execution_count": 14,
      "outputs": [
        {
          "execution_count": 14,
          "output_type": "execute_result",
          "data": {
            "text/plain": "8476     1200.29\n20312     450.30\n13861     258.21\n12511     233.74\n15474     211.80\n6064      179.06\n16379     157.06\n3582      152.30\n11269     151.82\n9280      150.30\n1928      137.80\n10291     131.80\n6708      126.00\n11608     123.30\n908       121.56\n7281      120.96\n18130     119.31\n13621     115.94\n13359     111.95\n29        111.38\nName: total_amount, dtype: float64"
          },
          "metadata": {}
        }
      ]
    },
    {
      "cell_type": "code",
      "source": "#Let's sort the data by total amount and print the bottom 20 values\ntotal_amount_sorted.tail(20)",
      "metadata": {
        "trusted": true
      },
      "execution_count": 15,
      "outputs": [
        {
          "execution_count": 15,
          "output_type": "execute_result",
          "data": {
            "text/plain": "14283      0.31\n19067      0.30\n10506      0.00\n5722       0.00\n4402       0.00\n22566      0.00\n1646      -3.30\n18565     -3.80\n314       -3.80\n5758      -3.80\n5448      -4.30\n4423      -4.30\n10281     -4.30\n8204      -4.80\n20317     -4.80\n11204     -5.30\n14714     -5.30\n17602     -5.80\n20698     -5.80\n12944   -120.30\nName: total_amount, dtype: float64"
          },
          "metadata": {}
        }
      ]
    },
    {
      "cell_type": "code",
      "source": "#==>How many of each payment type are represented in the data?\ndf['payment_type'].value_counts()",
      "metadata": {
        "trusted": true
      },
      "execution_count": 16,
      "outputs": [
        {
          "execution_count": 16,
          "output_type": "execute_result",
          "data": {
            "text/plain": "1    15265\n2     7267\n3      121\n4       46\nName: payment_type, dtype: int64"
          },
          "metadata": {}
        }
      ]
    },
    {
      "cell_type": "code",
      "source": "# What is the average tip for trips paid for with credit card?\navg_cc_tip = df[df['payment_type']==1]['tip_amount'].mean()\nprint('Avg. cc tip:', avg_cc_tip)\n\n# What is the average tip for trips paid for with cash?\navg_cash_tip = df[df['payment_type']==2]['tip_amount'].mean()\nprint('Avg. cash tip:', avg_cash_tip)",
      "metadata": {
        "trusted": true
      },
      "execution_count": 17,
      "outputs": [
        {
          "name": "stdout",
          "text": "Avg. cc tip: 2.7298001965280054\nAvg. cash tip: 0.0\n",
          "output_type": "stream"
        }
      ]
    },
    {
      "cell_type": "code",
      "source": "# How many times is each vendor ID represented in the data?\ndf['VendorID'].value_counts()",
      "metadata": {
        "trusted": true
      },
      "execution_count": 18,
      "outputs": [
        {
          "execution_count": 18,
          "output_type": "execute_result",
          "data": {
            "text/plain": "2    12626\n1    10073\nName: VendorID, dtype: int64"
          },
          "metadata": {}
        }
      ]
    },
    {
      "cell_type": "code",
      "source": "# What is the mean total amount for each vendor?\ndf.groupby(['VendorID']).mean(numeric_only=True)[['total_amount']]",
      "metadata": {
        "trusted": true
      },
      "execution_count": 19,
      "outputs": [
        {
          "execution_count": 19,
          "output_type": "execute_result",
          "data": {
            "text/plain": "          total_amount\nVendorID              \n1            16.298119\n2            16.320382",
            "text/html": "<div>\n<style scoped>\n    .dataframe tbody tr th:only-of-type {\n        vertical-align: middle;\n    }\n\n    .dataframe tbody tr th {\n        vertical-align: top;\n    }\n\n    .dataframe thead th {\n        text-align: right;\n    }\n</style>\n<table border=\"1\" class=\"dataframe\">\n  <thead>\n    <tr style=\"text-align: right;\">\n      <th></th>\n      <th>total_amount</th>\n    </tr>\n    <tr>\n      <th>VendorID</th>\n      <th></th>\n    </tr>\n  </thead>\n  <tbody>\n    <tr>\n      <th>1</th>\n      <td>16.298119</td>\n    </tr>\n    <tr>\n      <th>2</th>\n      <td>16.320382</td>\n    </tr>\n  </tbody>\n</table>\n</div>"
          },
          "metadata": {}
        }
      ]
    },
    {
      "cell_type": "code",
      "source": "# Filter the data for credit card payments only\ncredit_card = df[df['payment_type']==1]\n\n# Filter the data for passenger count only\ncredit_card['passenger_count'].value_counts()",
      "metadata": {
        "trusted": true
      },
      "execution_count": 20,
      "outputs": [
        {
          "execution_count": 20,
          "output_type": "execute_result",
          "data": {
            "text/plain": "1    10977\n2     2168\n5      775\n3      600\n6      451\n4      267\n0       27\nName: passenger_count, dtype: int64"
          },
          "metadata": {}
        }
      ]
    },
    {
      "cell_type": "code",
      "source": "# Calculate the average tip amount for each passenger count (credit card payments only)\ncredit_card.groupby(['passenger_count']).mean(numeric_only=True)[['tip_amount']]",
      "metadata": {
        "trusted": true
      },
      "execution_count": 21,
      "outputs": [
        {
          "execution_count": 21,
          "output_type": "execute_result",
          "data": {
            "text/plain": "                 tip_amount\npassenger_count            \n0                  2.610370\n1                  2.714681\n2                  2.829949\n3                  2.726800\n4                  2.607753\n5                  2.762645\n6                  2.643326",
            "text/html": "<div>\n<style scoped>\n    .dataframe tbody tr th:only-of-type {\n        vertical-align: middle;\n    }\n\n    .dataframe tbody tr th {\n        vertical-align: top;\n    }\n\n    .dataframe thead th {\n        text-align: right;\n    }\n</style>\n<table border=\"1\" class=\"dataframe\">\n  <thead>\n    <tr style=\"text-align: right;\">\n      <th></th>\n      <th>tip_amount</th>\n    </tr>\n    <tr>\n      <th>passenger_count</th>\n      <th></th>\n    </tr>\n  </thead>\n  <tbody>\n    <tr>\n      <th>0</th>\n      <td>2.610370</td>\n    </tr>\n    <tr>\n      <th>1</th>\n      <td>2.714681</td>\n    </tr>\n    <tr>\n      <th>2</th>\n      <td>2.829949</td>\n    </tr>\n    <tr>\n      <th>3</th>\n      <td>2.726800</td>\n    </tr>\n    <tr>\n      <th>4</th>\n      <td>2.607753</td>\n    </tr>\n    <tr>\n      <th>5</th>\n      <td>2.762645</td>\n    </tr>\n    <tr>\n      <th>6</th>\n      <td>2.643326</td>\n    </tr>\n  </tbody>\n</table>\n</div>"
          },
          "metadata": {}
        }
      ]
    },
    {
      "cell_type": "markdown",
      "source": "\n\n## 3: **Construct**\n\n**Note**: The Construct stage does not apply to this workflow. The PACE framework can be adapted to fit the specific requirements of any project.\n",
      "metadata": {
        "id": "tF_82VLgzrQm"
      }
    },
    {
      "cell_type": "markdown",
      "source": "\n\n## 4: **Execute**\n\nConsider the questions in your PACE Strategy Document and those below to craft your response:\n",
      "metadata": {
        "id": "BMHV86A6zrQo"
      }
    },
    {
      "cell_type": "markdown",
      "source": "### what can you summarize for DeShawn and the data team?**\n\n* A summary of the data types of each variable\n\n* The number of null and non-null values\n\n* Preliminary insights derived from the data, including:\n    * Unusual or questionable values\n    * How many of each payment type are represented in the data\n    * Mean tip amount for each payment type\n    * How many rides each vendor provided\n    * Mean total amount for each vendor\n    * Mean tip amount for each passenger count (only of those who paid by credit card)\n",
      "metadata": {
        "id": "u3HxcMZgz6iW",
        "tags": []
      }
    },
    {
      "cell_type": "markdown",
      "source": "**Conclusion:**\nAfter looking at the dataset, the two variables that are most likely to help build a predictive model are total_amount and trip_distance. Those two variables are most likely to be helfpul because those variables show a picture of a taxi cab ride.",
      "metadata": {}
    }
  ]
}